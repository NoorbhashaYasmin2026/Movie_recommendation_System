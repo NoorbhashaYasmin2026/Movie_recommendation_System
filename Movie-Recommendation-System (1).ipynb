{
 "cells": [
  {
   "cell_type": "markdown",
   "id": "d29e39eb-3167-4203-a3a1-10af28369f86",
   "metadata": {},
   "source": [
    "# Movie_Recommendation_System"
   ]
  },
  {
   "cell_type": "code",
   "execution_count": 104,
   "id": "a3202179-f436-4367-a651-9a22b6ea59d9",
   "metadata": {},
   "outputs": [
    {
     "data": {
      "text/plain": [
       "\"This project aims to develop a movie recommendation system that suggests similar movies based on a user's input.By leveraging a dataset of Netflix \\ntitles, the system utilizes natural language processing techniques to analyze various features of the movies, such as their titles, cast, directors,\\ngenres, and descriptions. The core of the recommendation process involves converting text data into numerical vectors and calculating the cosine\\nsimilarity between these vectors to identify movies that are closely related in terms of content\""
      ]
     },
     "execution_count": 104,
     "metadata": {},
     "output_type": "execute_result"
    }
   ],
   "source": [
    "'''This project aims to develop a movie recommendation system that suggests similar movies based on a user's input.By leveraging a dataset of Netflix \n",
    "titles, the system utilizes natural language processing techniques to analyze various features of the movies, such as their titles, cast, directors,\n",
    "genres, and descriptions. The core of the recommendation process involves converting text data into numerical vectors and calculating the cosine\n",
    "similarity between these vectors to identify movies that are closely related in terms of content'''"
   ]
  },
  {
   "cell_type": "code",
   "execution_count": 106,
   "id": "5f7fce9f-8148-43ff-bf1a-6e3460be6fb6",
   "metadata": {},
   "outputs": [],
   "source": [
    "'''we are importing the pandas library, which is used for data manipulation. We are also importing CountVectorizer and cosine_similarity \n",
    "which are used to convert text data into vectors and \n",
    "to calculate similarity, respectively'''\n",
    "import pandas as pd\n",
    "from sklearn.feature_extraction.text import CountVectorizer\n",
    "from sklearn.metrics.pairwise import cosine_similarity"
   ]
  },
  {
   "cell_type": "code",
   "execution_count": 108,
   "id": "4776bfab-d1ba-44d5-a1e8-a0ce0a26754d",
   "metadata": {},
   "outputs": [],
   "source": [
    "#load the data\n",
    "'''Load Dataset,we are loading our CSV file netflix_titles.csv and storing it in a DataFrame named movies.'''\n",
    "movies = pd.read_csv(\"netflix_titles.csv\")"
   ]
  },
  {
   "cell_type": "code",
   "execution_count": 110,
   "id": "e3675910-df8c-4ba2-a735-8cb7f7a2021a",
   "metadata": {},
   "outputs": [],
   "source": [
    "#select relevant cols\n",
    "'''herer  we are selecting only the columns that we need: title, cast, director, listed_in, and description.'''\n",
    "movies = movies[['title', 'cast', 'director', 'listed_in', 'description']]"
   ]
  },
  {
   "cell_type": "code",
   "execution_count": 112,
   "id": "7e68053d-a3c3-42d4-a595-166028a2b027",
   "metadata": {},
   "outputs": [],
   "source": [
    "#drop the missing data\n",
    "'''Here, we are dropping the rows that contain any missing values. The inplace=True parameter means that the changes\n",
    "will be applied to the original DataFrame.'''\n",
    "movies.dropna(inplace=True)"
   ]
  },
  {
   "cell_type": "code",
   "execution_count": 114,
   "id": "6778bded-efc9-454e-b7fb-92bcc39f5df9",
   "metadata": {},
   "outputs": [],
   "source": [
    "# Combine Features: listed_in (categories/genres), description, cast, director\n",
    "'''In this function, we are combining different features. For each row, we are concatenating listed_in, description, cast,\n",
    "and director into a single string.'''\n",
    "def combine_features(row):\n",
    "    return row['listed_in'] + \" \" + row['description'] + \" \" + row['cast'] + \" \" + row['director']"
   ]
  },
  {
   "cell_type": "code",
   "execution_count": 116,
   "id": "05985a40-a0fc-4c17-8454-41a364d5bac9",
   "metadata": {},
   "outputs": [],
   "source": [
    "\n",
    "'''we are applying the combine_features function to each row and creating a new column called combined_features.'''\n",
    "movies['combined_features'] = movies.apply(combine_features, axis=1)"
   ]
  },
  {
   "cell_type": "code",
   "execution_count": 118,
   "id": "4ab15352-3e33-491c-85b2-ac0378c8c873",
   "metadata": {},
   "outputs": [],
   "source": [
    "# Initialize CountVectorizer and create count matrix\n",
    "''' we are initializing the CountVectorizer and converting combined_features into a vector. \n",
    "The stop_words='english' parameter means that common English words will be ignored.'''\n",
    "cv = CountVectorizer(stop_words='english')\n",
    "count_matrix = cv.fit_transform(movies['combined_features'])"
   ]
  },
  {
   "cell_type": "code",
   "execution_count": 120,
   "id": "bb52bc0b-be09-4411-9684-8d1dabf4cffa",
   "metadata": {},
   "outputs": [],
   "source": [
    "\n",
    "# Compute Cosine Similarity matrix from count matrix\n",
    "'''Here, we are calculating the cosine similarity, which will give us a similarity score between each movie.'''\n",
    "cosine_sim = cosine_similarity(count_matrix)"
   ]
  },
  {
   "cell_type": "code",
   "execution_count": 121,
   "id": "1a35a887-6678-4450-b7d3-5c343254d882",
   "metadata": {},
   "outputs": [
    {
     "name": "stdout",
     "output_type": "stream",
     "text": [
      "Recommended movies for 'Jeans':\n",
      "['Jaws 2', 'Jaws', 'Jaws 3', 'Never Back Down 2: The Beatdown', 'In The Deep']\n"
     ]
    }
   ],
   "source": [
    "# Movie Recommendation Function\n",
    "def recommend(movie_name):\n",
    "    '''In this function, we are converting the movie name to lowercase for easier comparison. We also convert the titles to lowercase.'''\n",
    "    movie_name = movie_name.lower()\n",
    "    titles_lower = movies['title'].str.lower()\n",
    "    \n",
    "    '''Here, we are checking if the provided movie name exists in the DataFrame. If it does not, we return \"Movie not found.\"'''\n",
    "    if movie_name not in titles_lower.values:\n",
    "        return \"Movie not found.\"\n",
    "\n",
    "    '''In this part, we find the index of the movie and create a list of similar movies based on that index.\n",
    "    We then sort them according to their similarity scores and take the top 5 similar movies.'''\n",
    "    movie_index = titles_lower[titles_lower == movie_name].index[0]\n",
    "    similar_movies = list(enumerate(cosine_sim[movie_index]))\n",
    "\n",
    "    # Sort movies based on similarity score; skip the first (same movie)\n",
    "    sorted_similar_movies = sorted(similar_movies, key=lambda x: x[1], reverse=True)[1:6]\n",
    "\n",
    "    '''Here, we extract the titles from the sorted similar movies and return them.'''\n",
    "    recommendations = [movies.iloc[i[0]].title for i in sorted_similar_movies]\n",
    "    return recommendations\n",
    "\n",
    "# Test the recommendation function\n",
    "if __name__ == \"__main__\":\n",
    "    '''In this block, we check if the script is being run directly. If so, we print recommendations for the movie \"Jeans\".'''\n",
    "    test_movie = \"Jeans\"\n",
    "    print(f\"Recommended movies for '{test_movie}':\")\n",
    "    print(recommend(test_movie))"
   ]
  },
  {
   "cell_type": "code",
   "execution_count": 124,
   "id": "418e4579-f3ad-43a2-b640-f4a0b3e65a8c",
   "metadata": {},
   "outputs": [
    {
     "data": {
      "text/plain": [
       "\"In conclusion, the movie recommendation system successfully demonstrates how to utilize text data and similarity measures to provide personalized movie \\nsuggestions. By combining features from multiple columns in the dataset and applying cosine similarity, the system can effectively recommend movies that \\nalign with the user's interests. This project not only showcases the practical application of data manipulation and machine learning techniques but \\nalso highlights the potential for enhancing user experience in content discovery platforms like Netflix.\""
      ]
     },
     "execution_count": 124,
     "metadata": {},
     "output_type": "execute_result"
    }
   ],
   "source": [
    "'''In conclusion, the movie recommendation system successfully demonstrates how to utilize text data and similarity measures to provide personalized movie \n",
    "suggestions. By combining features from multiple columns in the dataset and applying cosine similarity, the system can effectively recommend movies that \n",
    "align with the user's interests. This project not only showcases the practical application of data manipulation and machine learning techniques but \n",
    "also highlights the potential for enhancing user experience in content discovery platforms like Netflix.'''"
   ]
  },
  {
   "cell_type": "code",
   "execution_count": null,
   "id": "e9a90e60-0f12-4590-b1ef-cfcf70d4f101",
   "metadata": {},
   "outputs": [],
   "source": []
  }
 ],
 "metadata": {
  "kernelspec": {
   "display_name": "Python 3 (ipykernel)",
   "language": "python",
   "name": "python3"
  },
  "language_info": {
   "codemirror_mode": {
    "name": "ipython",
    "version": 3
   },
   "file_extension": ".py",
   "mimetype": "text/x-python",
   "name": "python",
   "nbconvert_exporter": "python",
   "pygments_lexer": "ipython3",
   "version": "3.12.4"
  }
 },
 "nbformat": 4,
 "nbformat_minor": 5
}
